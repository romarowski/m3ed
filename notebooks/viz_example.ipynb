{
 "cells": [
  {
   "cell_type": "code",
   "execution_count": null,
   "id": "326975d6-df0b-47e9-aadb-3fda0bc582d6",
   "metadata": {},
   "outputs": [],
   "source": [
    "from eventpy.dataloader import DataLoader\n",
    "from eventpy.viz import EventFigure"
   ]
  },
  {
   "cell_type": "code",
   "execution_count": null,
   "id": "4d23537c-d302-42bc-a83c-9ec6e25905c0",
   "metadata": {},
   "outputs": [],
   "source": [
    "filename = '../output/car_urban_day_horse_data.h5'\n",
    "\n",
    "dataloader = DataLoader(filename=filename)\n",
    "\n",
    "dataloader.load_events(timestamp=1)"
   ]
  },
  {
   "cell_type": "code",
   "execution_count": null,
   "id": "22a3460f-2317-4d01-a142-78b95873c490",
   "metadata": {},
   "outputs": [],
   "source": [
    "fig = EventFigure(dataloader)"
   ]
  },
  {
   "cell_type": "code",
   "execution_count": null,
   "id": "602bdf6b-341f-44f5-a04f-34387e778cb0",
   "metadata": {},
   "outputs": [],
   "source": [
    "fig.plot(timestamp=1)"
   ]
  }
 ],
 "metadata": {
  "kernelspec": {
   "display_name": "Python 3 (ipykernel)",
   "language": "python",
   "name": "python3"
  },
  "language_info": {
   "codemirror_mode": {
    "name": "ipython",
    "version": 3
   },
   "file_extension": ".py",
   "mimetype": "text/x-python",
   "name": "python",
   "nbconvert_exporter": "python",
   "pygments_lexer": "ipython3",
   "version": "3.8.10"
  }
 },
 "nbformat": 4,
 "nbformat_minor": 5
}
