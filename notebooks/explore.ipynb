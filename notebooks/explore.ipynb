{
 "cells": [
  {
   "cell_type": "code",
   "execution_count": null,
   "id": "054715d9-2e0b-4375-a136-4793eaa184f9",
   "metadata": {},
   "outputs": [],
   "source": [
    "import h5py\n",
    "import numpy as np\n",
    "import matplotlib.pyplot as plt \n",
    "import sys\n",
    "from matplotlib.colors import ListedColormap"
   ]
  },
  {
   "cell_type": "code",
   "execution_count": null,
   "id": "e2aa7bd0-0449-401a-8880-1f7fbc0959b0",
   "metadata": {},
   "outputs": [],
   "source": [
    "hf = h5py.File('../output/car_urban_day_horse_data.h5', 'r')"
   ]
  },
  {
   "cell_type": "code",
   "execution_count": null,
   "id": "fd113ebd-1eb7-4191-8adc-75ecac62e74b",
   "metadata": {},
   "outputs": [],
   "source": [
    "hf.keys()"
   ]
  },
  {
   "cell_type": "code",
   "execution_count": null,
   "id": "8c27c07e-85fc-4e43-8341-fd3ab33bf2ba",
   "metadata": {},
   "outputs": [],
   "source": [
    "hf['prophesee'].keys()"
   ]
  },
  {
   "cell_type": "code",
   "execution_count": null,
   "id": "2c50be94-efc1-4ff0-b851-86456a3ec0dd",
   "metadata": {},
   "outputs": [],
   "source": [
    "hf['prophesee']['left'].keys()"
   ]
  },
  {
   "cell_type": "code",
   "execution_count": null,
   "id": "1c3b04d8-f6d5-40a7-b47e-2da546dfac5f",
   "metadata": {},
   "outputs": [],
   "source": [
    "hf['prophesee']['left']['ms_map_idx'][:]"
   ]
  },
  {
   "cell_type": "code",
   "execution_count": null,
   "id": "929ebb42-effe-4e6c-ab94-3a7a748ca0f3",
   "metadata": {},
   "outputs": [],
   "source": [
    "resolution = hf['prophesee']['left']['calib']['resolution']\n",
    "width, height = resolution[0], resolution[1]"
   ]
  },
  {
   "cell_type": "code",
   "execution_count": null,
   "id": "59694bff-9abf-4c09-bfe5-f7f0ba1fa789",
   "metadata": {},
   "outputs": [],
   "source": [
    "t_l = np.array(hf['prophesee']['left']['t'])\n",
    "x_l = np.array(hf['prophesee']['left']['x'])\n",
    "y_l = np.array(hf['prophesee']['left']['y'])\n",
    "p_l = np.array(hf['prophesee']['left']['p'])"
   ]
  },
  {
   "cell_type": "code",
   "execution_count": null,
   "id": "ce1a3a34-a60d-4370-9871-1d1c093d33db",
   "metadata": {},
   "outputs": [],
   "source": [
    "t_r = np.array(hf['prophesee']['right']['t'])\n",
    "x_r = np.array(hf['prophesee']['right']['x'])\n",
    "y_r = np.array(hf['prophesee']['right']['y'])\n",
    "p_r = np.array(hf['prophesee']['right']['p'])"
   ]
  },
  {
   "cell_type": "code",
   "execution_count": null,
   "id": "580f9fe0-5340-4d91-80e5-f6caabca6f6c",
   "metadata": {},
   "outputs": [],
   "source": [
    "len(set(t))"
   ]
  },
  {
   "cell_type": "code",
   "execution_count": null,
   "id": "41768054-b0c7-49be-99ff-74f243346c68",
   "metadata": {},
   "outputs": [],
   "source": [
    "#plot an event\n",
    "image = np.ones((height, width), dtype='uint8') * (-1)\n"
   ]
  },
  {
   "cell_type": "code",
   "execution_count": null,
   "id": "366d343b-394b-47a7-ae86-8b9dfc0de6a6",
   "metadata": {},
   "outputs": [],
   "source": [
    "sys.getsizeof(image) #uint 8 is an 8bit=1byte representation "
   ]
  },
  {
   "cell_type": "code",
   "execution_count": null,
   "id": "1a8ddc0e-33e7-40c9-9e0d-4a0c3b49bcf8",
   "metadata": {},
   "outputs": [],
   "source": [
    "t_l"
   ]
  },
  {
   "cell_type": "code",
   "execution_count": null,
   "id": "a2b254d6-acd6-419b-a016-b6a955e43948",
   "metadata": {},
   "outputs": [],
   "source": [
    "t_r"
   ]
  },
  {
   "cell_type": "code",
   "execution_count": null,
   "id": "7e5ba7eb-7847-45e8-acd6-b11e9658ea7e",
   "metadata": {},
   "outputs": [],
   "source": [
    "t_search = 1\n",
    "mask_t = t_l == t_search "
   ]
  },
  {
   "cell_type": "code",
   "execution_count": null,
   "id": "7cf98cbf-11da-4774-a392-9c9fd4bf50d5",
   "metadata": {},
   "outputs": [],
   "source": [
    "mask_t.sum()"
   ]
  },
  {
   "cell_type": "code",
   "execution_count": null,
   "id": "9d4c8da0-8b72-4c9f-b01f-d91c564f38ea",
   "metadata": {},
   "outputs": [],
   "source": [
    "x_image = x_l[mask_t]\n",
    "y_image = y_l[mask_t]\n",
    "p_image = p_l[mask_t]"
   ]
  },
  {
   "cell_type": "code",
   "execution_count": null,
   "id": "dd5b4162-d948-4d7e-ad07-b04d29be3311",
   "metadata": {},
   "outputs": [],
   "source": [
    "for x, y, p in zip(x_image, y_image, p_image):\n",
    "    image[y, x] = p "
   ]
  },
  {
   "cell_type": "code",
   "execution_count": null,
   "id": "731660b4-9c20-4f07-88d7-b46dc067d08a",
   "metadata": {},
   "outputs": [],
   "source": [
    "image.shape"
   ]
  },
  {
   "cell_type": "code",
   "execution_count": null,
   "id": "27310bcb-1837-4689-a0c5-b1706b6a5c35",
   "metadata": {},
   "outputs": [],
   "source": [
    "colors = ['blue', 'red']\n",
    "cmap = ListedColormap(colors)"
   ]
  },
  {
   "cell_type": "code",
   "execution_count": null,
   "id": "812c1ef0-aa8b-427c-af14-cbdaac3a6a21",
   "metadata": {},
   "outputs": [],
   "source": [
    "image"
   ]
  },
  {
   "cell_type": "code",
   "execution_count": null,
   "id": "267d8b43-c91d-4665-8eee-0f091191c3f4",
   "metadata": {},
   "outputs": [],
   "source": [
    "colors = ['blue' if polarity == 0 else 'red' for polarity in p_image]"
   ]
  },
  {
   "cell_type": "code",
   "execution_count": null,
   "id": "39d42902-3c80-4169-9c27-be9e6a4ec68a",
   "metadata": {},
   "outputs": [],
   "source": [
    "fig, ax = plt.subplots(figsize=(16, 9), dpi=300)\n",
    "ax.scatter(x_image, y_image,s=4,c=colors,)"
   ]
  },
  {
   "cell_type": "code",
   "execution_count": null,
   "id": "634fffe4-f699-4d74-99a3-c150cbb450cd",
   "metadata": {},
   "outputs": [],
   "source": [
    "fig, ax = plt.subplots(figsize=(16, 9), dpi=300)\n",
    "ax.scatter(image, cmap=cmap, interpolation=None)\n",
    "#plt.savefig('try.png')"
   ]
  },
  {
   "cell_type": "code",
   "execution_count": null,
   "id": "b4c916cb-5a33-4825-94c5-fafbce10a37a",
   "metadata": {},
   "outputs": [],
   "source": [
    "image.shape"
   ]
  },
  {
   "cell_type": "code",
   "execution_count": null,
   "id": "62f56fda-4906-4e7d-9ad1-9f172a598595",
   "metadata": {},
   "outputs": [],
   "source": []
  }
 ],
 "metadata": {
  "kernelspec": {
   "display_name": "Python 3 (ipykernel)",
   "language": "python",
   "name": "python3"
  },
  "language_info": {
   "codemirror_mode": {
    "name": "ipython",
    "version": 3
   },
   "file_extension": ".py",
   "mimetype": "text/x-python",
   "name": "python",
   "nbconvert_exporter": "python",
   "pygments_lexer": "ipython3",
   "version": "3.8.10"
  }
 },
 "nbformat": 4,
 "nbformat_minor": 5
}
