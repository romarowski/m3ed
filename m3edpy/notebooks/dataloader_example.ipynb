{
 "cells": [
  {
   "cell_type": "code",
   "execution_count": null,
   "id": "a32d427d-8113-4218-8714-9605176bb4f0",
   "metadata": {},
   "outputs": [],
   "source": [
    "from eventpy.dataloader import DataLoader"
   ]
  },
  {
   "cell_type": "code",
   "execution_count": null,
   "id": "746c3434-9199-4f15-a8b3-72fe121f2595",
   "metadata": {},
   "outputs": [],
   "source": [
    "filename = '../output/car_urban_day_horse_data.h5'"
   ]
  },
  {
   "cell_type": "code",
   "execution_count": null,
   "id": "41f817a8-4fd3-437c-9089-8da323e49d0a",
   "metadata": {},
   "outputs": [],
   "source": [
    "dataloader = DataLoader(filename=filename)"
   ]
  },
  {
   "cell_type": "code",
   "execution_count": null,
   "id": "751c765b-57d7-431e-ae87-4c7c40001b58",
   "metadata": {},
   "outputs": [],
   "source": [
    "dataloader.load_events(timestamp=1)"
   ]
  },
  {
   "cell_type": "code",
   "execution_count": null,
   "id": "d87968b0-09ba-4074-80a5-94c750505ec0",
   "metadata": {},
   "outputs": [],
   "source": [
    "dataloader.events"
   ]
  }
 ],
 "metadata": {
  "kernelspec": {
   "display_name": "Python 3 (ipykernel)",
   "language": "python",
   "name": "python3"
  },
  "language_info": {
   "codemirror_mode": {
    "name": "ipython",
    "version": 3
   },
   "file_extension": ".py",
   "mimetype": "text/x-python",
   "name": "python",
   "nbconvert_exporter": "python",
   "pygments_lexer": "ipython3",
   "version": "3.8.10"
  }
 },
 "nbformat": 4,
 "nbformat_minor": 5
}
